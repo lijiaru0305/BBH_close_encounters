{
 "cells": [
  {
   "cell_type": "code",
   "execution_count": 1,
   "metadata": {},
   "outputs": [],
   "source": [
    "%matplotlib inline\n",
    "import matplotlib.pyplot as plt\n",
    "import numpy as np\n",
    "from glob import glob\n",
    "\n",
    "\n",
    "#import warnings\n",
    "#warnings.filterwarnings('ignore')\n"
   ]
  },
  {
   "cell_type": "code",
   "execution_count": 3,
   "metadata": {},
   "outputs": [
    {
     "ename": "TypeError",
     "evalue": "not all arguments converted during string formatting",
     "output_type": "error",
     "traceback": [
      "\u001b[1;31m---------------------------------------------------------------------------\u001b[0m",
      "\u001b[1;31mTypeError\u001b[0m                                 Traceback (most recent call last)",
      "\u001b[1;32m<ipython-input-3-0e6038068568>\u001b[0m in \u001b[0;36m<module>\u001b[1;34m\u001b[0m\n\u001b[0;32m     48\u001b[0m     \u001b[0mNuse\u001b[0m \u001b[1;33m=\u001b[0m \u001b[0mlen\u001b[0m\u001b[1;33m(\u001b[0m\u001b[0meta\u001b[0m\u001b[1;33m)\u001b[0m\u001b[1;33m\u001b[0m\u001b[1;33m\u001b[0m\u001b[0m\n\u001b[0;32m     49\u001b[0m     axs.hist(eta,bins=bin_use,linewidth=lw,density=True,cumulative=True,\n\u001b[1;32m---> 50\u001b[1;33m              \u001b[0mlabel\u001b[0m\u001b[1;33m=\u001b[0m\u001b[1;34mr'$t=10^{%2.1f-%2.1f}P_1$'\u001b[0m \u001b[1;33m%\u001b[0m\u001b[1;33m(\u001b[0m\u001b[0mnp\u001b[0m\u001b[1;33m.\u001b[0m\u001b[0mlog10\u001b[0m\u001b[1;33m(\u001b[0m\u001b[0mt0\u001b[0m\u001b[1;33m)\u001b[0m\u001b[1;33m,\u001b[0m\u001b[0mnp\u001b[0m\u001b[1;33m.\u001b[0m\u001b[0mlog10\u001b[0m\u001b[1;33m(\u001b[0m\u001b[0mtf\u001b[0m\u001b[1;33m)\u001b[0m\u001b[1;33m,\u001b[0m\u001b[0mNuse\u001b[0m\u001b[1;33m)\u001b[0m\u001b[1;33m,\u001b[0m\u001b[1;33m\u001b[0m\u001b[1;33m\u001b[0m\u001b[0m\n\u001b[0m\u001b[0;32m     51\u001b[0m              alpha=aluse,histtype='step')    \n\u001b[0;32m     52\u001b[0m \u001b[1;33m\u001b[0m\u001b[0m\n",
      "\u001b[1;31mTypeError\u001b[0m: not all arguments converted during string formatting"
     ]
    },
    {
     "data": {
      "image/png": "[encoded data removed]",
      "text/plain": [
       "<Figure size 864x864 with 1 Axes>"
      ]
     },
     "metadata": {
      "needs_background": "light"
     },
     "output_type": "display_data"
    }
   ],
   "source": [
    "## \n",
    "##  Read the data for canonical runs\n",
    "##\n",
    "\n",
    "RH = (2e-5/3)**(1./3.)\n",
    "\n",
    "can_CE0 = np.load('d:/_work/BBH-data_use/_data/can_CE0-2000.npy')\n",
    "can_CE1 = can_CE0[ (can_CE0[:,3]*(1-can_CE0[:,4])<RH*1e-1), : ]\n",
    "can_CE2 = can_CE0[ (can_CE0[:,3]*(1-can_CE0[:,4])<RH*1e-2), : ]\n",
    "can_CE3 = can_CE0[ (can_CE0[:,3]*(1-can_CE0[:,4])<RH*1e-3), : ]\n",
    "can_CE4 = can_CE0[ (can_CE0[:,3]*(1-can_CE0[:,4])<RH*1e-4), : ]\n",
    "can_CE5 = can_CE0[ (can_CE0[:,3]*(1-can_CE0[:,4])<RH*1e-5), : ]\n",
    "\n",
    "\n",
    "\n",
    "\n",
    "##\n",
    "##  Plot the time evolution of number\n",
    "##\n",
    "plt.rcParams.update({'font.size':22})\n",
    "\n",
    "fig,axs = plt.subplots(1,1, sharex=True, figsize=(12,12))\n",
    "fig.subplots_adjust(hspace=0.0)\n",
    "\n",
    "axs.set_xlabel(r'$r_{\\rm p}/R_{\\rm H}$')\n",
    "axs.set_ylabel(r'CDF')\n",
    "\n",
    "axs.set_xlim([1e-4,1e-0])\n",
    "axs.set_ylim([0.8e-4,2])\n",
    "\n",
    "axs.set_xscale('log')\n",
    "axs.set_yscale('log')\n",
    "\n",
    "# parameters of the plot\n",
    "\n",
    "bin_use = 10**np.linspace(-9,0.1,1001)\n",
    "aluse = 0.5\n",
    "lw = 3\n",
    "\n",
    "# plot the time evolution of rp\n",
    "t_range = 10.**np.array([2,3.5,4,4.5,5])\n",
    "#t_range = np.logspace(1,5,6)\n",
    "for i in range(len(t_range)-1):\n",
    "    t0 = t_range[i]\n",
    "    tf = t_range[i+1]\n",
    "    t_i = (can_CE0[:,0]>t0) * (can_CE0[:,0]<tf)\n",
    "    eta = can_CE0[t_i,3] * (1-can_CE0[t_i,4]) / RH\n",
    "    Nuse = len(eta)\n",
    "    axs.hist(eta,bins=bin_use,linewidth=lw,density=True,cumulative=True,\n",
    "             label=r'$t=10^{%2.1f-%2.1f}P_1$ ($%5d$ CEs)' %(np.log10(t0),np.log10(tf),Nuse),\n",
    "             alpha=aluse,histtype='step')    \n",
    "\n",
    "# plot the distribution of rp\n",
    "\n",
    "eta = can_CE0[:,3] * (1-can_CE0[:,4]) / RH\n",
    "Nuse = len(eta)\n",
    "axs.hist(eta,bins=bin_use,linewidth=5,density=True,cumulative=True,\n",
    "         label='all ($%5d$ CEs)'%Nuse,edgecolor='k',histtype='step')\n",
    "\n",
    "\n",
    "\n",
    "\n",
    "##  Save the figure\n",
    "#axs.legend(loc=9,ncol=3)\n",
    "axs.legend(loc=4,ncol=1)\n",
    "axs.grid()\n",
    "axs.set_axisbelow(True)\n",
    "\n",
    "plt.savefig('./pics/pics-CDF-rp-time.pdf',bbox_inches='tight',transparent=True)\n",
    "plt.savefig('./pics/pics-CDF-rp-time.png',bbox_inches='tight',transparent=True)\n"
   ]
  },
  {
   "cell_type": "code",
   "execution_count": null,
   "metadata": {},
   "outputs": [],
   "source": []
  }
 ],
 "metadata": {
  "kernelspec": {
   "display_name": "Python 3",
   "language": "python",
   "name": "python3"
  },
  "language_info": {
   "codemirror_mode": {
    "name": "ipython",
    "version": 3
   },
   "file_extension": ".py",
   "mimetype": "text/x-python",
   "name": "python",
   "nbconvert_exporter": "python",
   "pygments_lexer": "ipython3",
   "version": "3.8.3"
  }
 },
 "nbformat": 4,
 "nbformat_minor": 4
}
