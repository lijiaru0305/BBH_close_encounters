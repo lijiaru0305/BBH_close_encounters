{
 "cells": [
  {
   "cell_type": "code",
   "execution_count": 1,
   "metadata": {},
   "outputs": [],
   "source": [
    "%matplotlib inline\n",
    "import matplotlib.pyplot as plt\n",
    "import numpy as np\n",
    "from glob import glob\n",
    "\n",
    "\n",
    "#import warnings\n",
    "#warnings.filterwarnings('ignore')\n"
   ]
  },
  {
   "cell_type": "code",
   "execution_count": 2,
   "metadata": {},
   "outputs": [],
   "source": [
    "def get_mutinc(path):\n",
    "    \n",
    "    data = np.load(path)\n",
    "\n",
    "    l1 = data[1:,6:9]\n",
    "    l2 = data[1:,13:16]\n",
    "\n",
    "    t = data[1:,0]\n",
    "    \n",
    "    A1 = np.linalg.norm(l1,axis=1)\n",
    "    A2 = np.linalg.norm(l2,axis=1)\n",
    "    \n",
    "    cosinc = np.diag(np.matmul(l1,l2.T))/A1/A2\n",
    "    inc= np.arccos(np.clip(cosinc,-1,1))\n",
    "\n",
    "    if np.sum(t==0)>0:\n",
    "        it = t>0\n",
    "        t = t[it]\n",
    "        cosinc = cosinc[it]\n",
    "        inc = inc[it]\n",
    "        tt = np.linspace(0.,1.,10001)[1:]*1e5\n",
    "        cosinc = np.interp(tt,t,cosinc)\n",
    "        inc = np.interp(tt,t,inc)\n",
    "        t = tt\n",
    "        \n",
    "    return t, cosinc, inc"
   ]
  },
  {
   "cell_type": "code",
   "execution_count": null,
   "metadata": {},
   "outputs": [],
   "source": []
  },
  {
   "cell_type": "code",
   "execution_count": null,
   "metadata": {},
   "outputs": [],
   "source": []
  },
  {
   "cell_type": "code",
   "execution_count": null,
   "metadata": {},
   "outputs": [],
   "source": [
    "RH1 = (1e-5/3.)**(1./3.)\n",
    "\n",
    "\n",
    "plt.rcParams.update({'font.size':22})\n",
    "\n",
    "fig,axs = plt.subplots(1,1, sharey=True, figsize=(12,12))\n",
    "fig.subplots_adjust(wspace=0.0)\n",
    "\n",
    "plt.rcParams.update({'font.size':22})\n",
    "\n",
    "\n",
    "axs.set_xlabel(r'$t$ [orbit]')\n",
    "axs.set_ylabel(r'$\\theta_{12}$  $[R_{\\rm H}/a_1]$')\n",
    "\n",
    "axs.set_xlim([1e1,1e5])\n",
    "axs.set_ylim([5e-6,9e0])\n",
    "\n",
    "axs.set_xscale('log')\n",
    "axs.set_yscale('log')\n",
    "\n",
    "\n",
    "sum_i1 = np.zeros(10000)\n",
    "sum_i2 = np.zeros(10000)\n",
    "\n",
    "Nrun = 200\n",
    "\n",
    "for i in range(Nrun):\n",
    "    run_name = 'd:/_work/BBH-data_use/can-5-snap/Energy%05d.npy'%(i)\n",
    "    tE, cosinc, inc = get_mutinc(run_name)\n",
    "    sum_i1 = sum_i1 + inc\n",
    "    axs.plot(tE,inc/RH1,color='b',alpha=0.1)\n",
    "\n",
    "    run_name = 'd:/_work/BBH-data_use/can-snap/Energy%05d.npy'%(i)\n",
    "    tE, cosinc, inc = get_mutinc(run_name)\n",
    "    sum_i2 = sum_i2 + inc\n",
    "    axs.plot(tE,inc/RH1,color='g',alpha=0.1)\n",
    "    \n",
    "axs.plot(tE,sum_i1/Nrun/RH1,color='b',linewidth=2,label=r'$i=10^{-5}R_{\\rm H}/a$')\n",
    "axs.plot(tE,sum_i2/Nrun/RH1,color='g',linewidth=2,label=r'canonical')\n",
    "\n",
    "\n",
    "axs.plot(tE,sum_i1/Nrun/RH1,color='k',linewidth=5)\n",
    "axs.plot(tE,sum_i2/Nrun/RH1,color='k',linewidth=5)\n",
    "\n",
    "axs.legend(loc=4,ncol=1)\n",
    "\n",
    "plt.rcParams.update({'font.size':22})\n",
    "\n",
    "\n",
    "plt.savefig('./pics/pics-theta-vs-t.pdf',bbox_inches='tight',transparent=True)\n",
    "plt.savefig('./pics/pics-theta-vs-t.png',bbox_inches='tight',transparent=True)"
   ]
  },
  {
   "cell_type": "code",
   "execution_count": null,
   "metadata": {},
   "outputs": [],
   "source": []
  }
 ],
 "metadata": {
  "kernelspec": {
   "display_name": "Python 3",
   "language": "python",
   "name": "python3"
  },
  "language_info": {
   "codemirror_mode": {
    "name": "ipython",
    "version": 3
   },
   "file_extension": ".py",
   "mimetype": "text/x-python",
   "name": "python",
   "nbconvert_exporter": "python",
   "pygments_lexer": "ipython3",
   "version": "3.8.3"
  }
 },
 "nbformat": 4,
 "nbformat_minor": 4
}
