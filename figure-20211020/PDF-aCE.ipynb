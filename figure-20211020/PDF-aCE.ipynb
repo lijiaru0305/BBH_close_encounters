{
 "cells": [
  {
   "cell_type": "code",
   "execution_count": 1,
   "metadata": {},
   "outputs": [],
   "source": [
    "%matplotlib inline\n",
    "import matplotlib.pyplot as plt\n",
    "import numpy as np\n",
    "from glob import glob\n",
    "\n",
    "\n",
    "#import warnings\n",
    "#warnings.filterwarnings('ignore')\n"
   ]
  },
  {
   "cell_type": "code",
   "execution_count": 48,
   "metadata": {},
   "outputs": [
    {
     "data": {
      "image/png": "[encoded data removed]",
      "text/plain": [
       "<Figure size 864x864 with 1 Axes>"
      ]
     },
     "metadata": {
      "needs_background": "light"
     },
     "output_type": "display_data"
    }
   ],
   "source": [
    "## \n",
    "##  Read the data for canonical runs\n",
    "##\n",
    "\n",
    "RH = (2e-5/3.)**(1./3.)\n",
    "\n",
    "can_CE0 = np.load('d:/_work/BBH-data_use/_data/can_CE0-2000.npy')\n",
    "can_CE1 = can_CE0[ (can_CE0[:,3]*(1-can_CE0[:,4])<RH*1e-1), : ]\n",
    "can_CE2 = can_CE0[ (can_CE0[:,3]*(1-can_CE0[:,4])<RH*1e-2), : ]\n",
    "can_CE3 = can_CE0[ (can_CE0[:,3]*(1-can_CE0[:,4])<RH*1e-3), : ]\n",
    "can_CE4 = can_CE0[ (can_CE0[:,3]*(1-can_CE0[:,4])<RH*1e-4), : ]\n",
    "can_CE5 = can_CE0[ (can_CE0[:,3]*(1-can_CE0[:,4])<RH*1e-5), : ]\n",
    "\n",
    "##\n",
    "##  Plot the time evolution of number\n",
    "##\n",
    "plt.rcParams.update({'font.size':22})\n",
    "\n",
    "fig,axs = plt.subplots(1,1, sharex=True, figsize=(12,12))\n",
    "fig.subplots_adjust(hspace=0.0)\n",
    "\n",
    "axs.set_xlabel(r'$R_{\\rm H}/a_{\\rm CE}$')\n",
    "axs.set_ylabel(r'PDF')\n",
    "\n",
    "# parameters of the plot\n",
    "\n",
    "bin_use = np.linspace(-3,3,72)\n",
    "aluse = 0.1\n",
    "lw = 3\n",
    "\n",
    "# plot the distribution of RH/a\n",
    "\n",
    "eta = RH/can_CE0[:,3]\n",
    "Nuse = len(eta)\n",
    "#bin_use = np.linspace(-3,3,int(2*Nuse**(1./3.)))\n",
    "axs.hist(eta,bins=bin_use,linewidth=lw,density=True,cumulative=False,histtype='stepfilled',\n",
    "         label=r'CE0',edgecolor='k',fc=(0,0,0,aluse))\n",
    "\n",
    "eta = RH/can_CE1[:,3]\n",
    "Nuse = len(eta)\n",
    "#bin_use = np.linspace(-3,3,int(2*Nuse**(1./3.)))\n",
    "axs.hist(eta,bins=bin_use,linewidth=lw,density=True,cumulative=False,histtype='stepfilled',\n",
    "         label=r'CE1',edgecolor='r',fc=(1,0,0,aluse))\n",
    "\n",
    "eta = RH/can_CE2[:,3]\n",
    "Nuse = len(eta)\n",
    "#bin_use = np.linspace(-3,3,int(np.sqrt(Nuse)))\n",
    "axs.hist(eta,bins=bin_use,linewidth=lw,density=True,cumulative=False,histtype='stepfilled',\n",
    "         label=r'CE2',edgecolor='b',fc=(0,0,1,aluse))\n",
    "\n",
    "##  Save the figure\n",
    "axs.legend(loc=2)\n",
    "\n",
    "\n",
    "plt.savefig('./pics/pics-PDF-aCE.pdf',bbox_inches='tight',transparent=True)\n",
    "plt.savefig('./pics/pics-PDF-aCE.png',bbox_inches='tight',transparent=True)\n"
   ]
  },
  {
   "cell_type": "code",
   "execution_count": 44,
   "metadata": {},
   "outputs": [
    {
     "name": "stdout",
     "output_type": "stream",
     "text": [
      "=== CE0 ===\n",
      "248790\n",
      "95.97706398471018 0.9634993367900639 49\n",
      "=== CE1 ===\n",
      "43153\n",
      "95.97706398471018 0.9031353555952077 44\n",
      "=== CE2 ===\n",
      "5238\n",
      "95.97706398471018 0.8864070255822833 23\n",
      "=== CE3 ===\n",
      "579\n",
      "27.240351493572234 0.9067357512953368 1\n",
      "=== CE4 ===\n",
      "55\n",
      "1.9576679717793013 0.8909090909090909 0\n"
     ]
    }
   ],
   "source": [
    "print('=== CE0 ===')\n",
    "eta = can_CE0[:,9]\n",
    "Nuse = len(eta)\n",
    "print(Nuse)\n",
    "print(np.max(eta),np.sum(eta<1)/Nuse,np.sum(eta>10))\n",
    "\n",
    "print('=== CE1 ===')\n",
    "eta = can_CE1[:,9]\n",
    "Nuse = len(eta)\n",
    "print(Nuse)\n",
    "print(np.max(eta),np.sum(eta<1)/Nuse,np.sum(eta>10))\n",
    "\n",
    "print('=== CE2 ===')\n",
    "eta = can_CE2[:,9]\n",
    "Nuse = len(eta)\n",
    "print(Nuse)\n",
    "print(np.max(eta),np.sum(eta<1)/Nuse,np.sum(eta>10))\n",
    "\n",
    "print('=== CE3 ===')\n",
    "eta = can_CE3[:,9]\n",
    "Nuse = len(eta)\n",
    "print(Nuse)\n",
    "print(np.max(eta),np.sum(eta<1)/Nuse,np.sum(eta>10))\n",
    "\n",
    "print('=== CE4 ===')\n",
    "eta = can_CE4[:,9]\n",
    "Nuse = len(eta)\n",
    "print(Nuse)\n",
    "print(np.max(eta),np.sum(eta<1)/Nuse,np.sum(eta>10))"
   ]
  },
  {
   "cell_type": "code",
   "execution_count": null,
   "metadata": {},
   "outputs": [],
   "source": []
  }
 ],
 "metadata": {
  "kernelspec": {
   "display_name": "Python 3",
   "language": "python",
   "name": "python3"
  },
  "language_info": {
   "codemirror_mode": {
    "name": "ipython",
    "version": 3
   },
   "file_extension": ".py",
   "mimetype": "text/x-python",
   "name": "python",
   "nbconvert_exporter": "python",
   "pygments_lexer": "ipython3",
   "version": "3.8.3"
  }
 },
 "nbformat": 4,
 "nbformat_minor": 4
}
