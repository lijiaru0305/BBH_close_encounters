{
 "cells": [
  {
   "cell_type": "code",
   "execution_count": 1,
   "metadata": {},
   "outputs": [],
   "source": [
    "%matplotlib inline\n",
    "import matplotlib.pyplot as plt\n",
    "import numpy as np\n",
    "from glob import glob\n",
    "\n",
    "\n",
    "#import warnings\n",
    "#warnings.filterwarnings('ignore')\n"
   ]
  },
  {
   "cell_type": "code",
   "execution_count": 4,
   "metadata": {},
   "outputs": [
    {
     "name": "stdout",
     "output_type": "stream",
     "text": [
      "6.411753147434124e-05\n",
      "115746046.53917949\n"
     ]
    }
   ],
   "source": [
    "T2 = 16495\n",
    "n2 = 0.52\n",
    "\n",
    "c_eq14 = (1./T2)**(n2)/100.\n",
    "t_eq14 = (1./c_eq14)**(1./n2)\n",
    "\n",
    "print(c_eq14)\n",
    "print(t_eq14)\n"
   ]
  },
  {
   "cell_type": "code",
   "execution_count": 7,
   "metadata": {},
   "outputs": [
    {
     "name": "stdout",
     "output_type": "stream",
     "text": [
      "0.04972793831154915\n",
      "5971.244158746552\n"
     ]
    }
   ],
   "source": [
    "T2 = 137\n",
    "n2 = 0.61\n",
    "\n",
    "c_eq15 = (1./T2)**(n2)\n",
    "c_eq16 = (1./T2)**(n2)/10\n",
    "t_eq16 = (1./c_eq16)**(1./n2)\n",
    "\n",
    "print(c_eq15)\n",
    "print(t_eq16)\n"
   ]
  },
  {
   "cell_type": "code",
   "execution_count": 9,
   "metadata": {},
   "outputs": [
    {
     "name": "stdout",
     "output_type": "stream",
     "text": [
      "7485093045055.66\n",
      "395925591500.4678\n",
      "4034529578.103791\n"
     ]
    }
   ],
   "source": [
    "## NBH\n",
    "\n",
    "print( 100**(1/0.257) * 1.23622077e+05 )\n",
    "print( 100**(1/0.300) * 8.52995829e+04 )\n",
    "print( 100**(1/0.499) * 3.96074490e+05  )"
   ]
  },
  {
   "cell_type": "code",
   "execution_count": null,
   "metadata": {},
   "outputs": [],
   "source": []
  }
 ],
 "metadata": {
  "kernelspec": {
   "display_name": "Python 3",
   "language": "python",
   "name": "python3"
  },
  "language_info": {
   "codemirror_mode": {
    "name": "ipython",
    "version": 3
   },
   "file_extension": ".py",
   "mimetype": "text/x-python",
   "name": "python",
   "nbconvert_exporter": "python",
   "pygments_lexer": "ipython3",
   "version": "3.8.3"
  }
 },
 "nbformat": 4,
 "nbformat_minor": 4
}
